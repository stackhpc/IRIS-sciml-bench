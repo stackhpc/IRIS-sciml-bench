{
 "cells": [
  {
   "cell_type": "markdown",
   "id": "a41b9738",
   "metadata": {},
   "source": [
    "## Run sciml-bench\n",
    "**Warning - these benchmarks are memory intensive and may fail without an obvious error message if your notebook cannot access more than 10Gi RAM**"
   ]
  },
  {
   "cell_type": "code",
   "execution_count": null,
   "id": "21e82009-8ab5-4e33-83c1-ef6a6c1dbb3f",
   "metadata": {
    "tags": []
   },
   "outputs": [],
   "source": [
    "# Install sciml-bench\n",
    "!pip install git+https://github.com/stfc-sciml/sciml-bench"
   ]
  },
  {
   "cell_type": "code",
   "execution_count": null,
   "id": "954be590-15af-4aed-8af5-2f4d8a479333",
   "metadata": {
    "collapsed": true,
    "jupyter": {
     "outputs_hidden": true
    },
    "tags": []
   },
   "outputs": [],
   "source": [
    "# Test install and view available benchmarks\n",
    "!sciml-bench list"
   ]
  },
  {
   "cell_type": "code",
   "execution_count": null,
   "id": "9904d3f9-db76-4dc2-9b7e-e87da678a3de",
   "metadata": {
    "collapsed": true,
    "jupyter": {
     "outputs_hidden": true
    }
   },
   "outputs": [],
   "source": [
    "# Get datasets for each of the benchmarks\n",
    "!for i in MNIST em_graphene_sim dms_sim; do sciml-bench download --dataset_root_dir /lustre/readwrite/sciml-bench-data $i ;done"
   ]
  },
  {
   "cell_type": "code",
   "execution_count": null,
   "id": "e8a0b36e-e525-475e-8cd5-61943702f541",
   "metadata": {
    "tags": []
   },
   "outputs": [],
   "source": [
    "# Install deps for each of the benchmarks\n",
    "!for i in MNIST_tf_keras em_denoise dms_structure; do sciml-bench install $i ; done"
   ]
  },
  {
   "cell_type": "code",
   "execution_count": null,
   "id": "a4d16cc0-9b7c-430e-802a-aba7b62d02a7",
   "metadata": {
    "tags": []
   },
   "outputs": [],
   "source": [
    "# Install modern versions of dependencies over sciml-bench requirements\n",
    "# Remove mxnet for CUDA 10.2\n",
    "!pip uninstall -y mxnet-cu102\n",
    "\n",
    "# Install mxnet for CUDA 11.2 (latest available)\n",
    "!pip install mxnet-cu112\n",
    "\n",
    "# Install pytorch and deps for CUDA 11.3 (latest available)\n",
    "!pip install torch==1.11.0+cu113 torchvision==0.12.0+cu113 torchaudio==0.11.0+cu113 -f https://download.pytorch.org/whl/cu113/torch_stable.html\n",
    "\n",
    "# Upgrade jupyter_console for prompt_toolkit.formatted_text\n",
    "!pip install -U jupyter_console"
   ]
  },
  {
   "cell_type": "code",
   "execution_count": null,
   "id": "7e9b4436-5478-4847-9971-6061d1e196b5",
   "metadata": {
    "tags": []
   },
   "outputs": [],
   "source": [
    "# Run dms_structure benchmark\n",
    "!sciml-bench run --dataset_dir /lustre/readwrite/sciml-bench-data/dms_sim/ --output_dir dms_structure_out dms_structure"
   ]
  },
  {
   "cell_type": "code",
   "execution_count": null,
   "id": "3f68a8e8-5ab3-429f-9d07-35525eb44063",
   "metadata": {
    "tags": []
   },
   "outputs": [],
   "source": [
    "# Run em_denoise benchmark\n",
    "!sciml-bench run --dataset_dir /lustre/readwrite/em_graphene_sim/ --output_dir em_denoise_out em_denoise"
   ]
  },
  {
   "cell_type": "code",
   "execution_count": null,
   "id": "c38510e1-1dd7-4cae-bcfc-d0aa7926f285",
   "metadata": {
    "tags": []
   },
   "outputs": [],
   "source": [
    "# Run MNIST benchmark\n",
    "!sciml-bench run --dataset_dir /lustre/readwrite/MNIST/ --output_dir MNIST_tf_keras_out MNIST_tf_keras"
   ]
  }
 ],
 "metadata": {
  "kernelspec": {
   "display_name": "Python 3 (ipykernel)",
   "language": "python",
   "name": "python3"
  },
  "language_info": {
   "codemirror_mode": {
    "name": "ipython",
    "version": 3
   },
   "file_extension": ".py",
   "mimetype": "text/x-python",
   "name": "python",
   "nbconvert_exporter": "python",
   "pygments_lexer": "ipython3",
   "version": "3.9.7"
  }
 },
 "nbformat": 4,
 "nbformat_minor": 5
}
