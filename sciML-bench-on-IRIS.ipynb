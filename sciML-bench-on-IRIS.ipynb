{
 "cells": [
  {
   "cell_type": "code",
   "execution_count": 31,
   "id": "21e82009-8ab5-4e33-83c1-ef6a6c1dbb3f",
   "metadata": {
    "collapsed": true,
    "jupyter": {
     "outputs_hidden": true
    },
    "tags": []
   },
   "outputs": [
    {
     "name": "stdout",
     "output_type": "stream",
     "text": [
      "Collecting git+https://github.com/stfc-sciml/sciml-bench\n",
      "  Cloning https://github.com/stfc-sciml/sciml-bench to /tmp/pip-req-build-ww4hre5r\n",
      "  Running command git clone --filter=blob:none --quiet https://github.com/stfc-sciml/sciml-bench /tmp/pip-req-build-ww4hre5r\n",
      "  Resolved https://github.com/stfc-sciml/sciml-bench to commit 2c5035d4ea57ee7d2cde8ef805b756fc2d061f92\n",
      "  Preparing metadata (setup.py) ... \u001b[?25ldone\n",
      "\u001b[?25hRequirement already satisfied: setuptools in /opt/conda/lib/python3.9/site-packages (from sciml-bench==1.0.0) (59.8.0)\n",
      "Requirement already satisfied: py-cpuinfo in /opt/conda/lib/python3.9/site-packages (from sciml-bench==1.0.0) (8.0.0)\n",
      "Requirement already satisfied: psutil in /opt/conda/lib/python3.9/site-packages (from sciml-bench==1.0.0) (5.9.0)\n",
      "Requirement already satisfied: gputil in /opt/conda/lib/python3.9/site-packages (from sciml-bench==1.0.0) (1.4.0)\n",
      "Requirement already satisfied: pyyaml in /opt/conda/lib/python3.9/site-packages (from sciml-bench==1.0.0) (5.4.1)\n",
      "Requirement already satisfied: h5py in /opt/conda/lib/python3.9/site-packages (from sciml-bench==1.0.0) (3.1.0)\n",
      "Requirement already satisfied: numpy in /opt/conda/lib/python3.9/site-packages (from sciml-bench==1.0.0) (1.19.5)\n",
      "Requirement already satisfied: tabulate in /opt/conda/lib/python3.9/site-packages (from sciml-bench==1.0.0) (0.8.9)\n",
      "Requirement already satisfied: click in /opt/conda/lib/python3.9/site-packages (from sciml-bench==1.0.0) (8.0.3)\n",
      "Requirement already satisfied: cmake in /opt/conda/lib/python3.9/site-packages (from sciml-bench==1.0.0) (3.22.3)\n",
      "Requirement already satisfied: aws-shell in /opt/conda/lib/python3.9/site-packages (from sciml-bench==1.0.0) (0.2.2)\n",
      "Requirement already satisfied: configobj<6.0.0,>=5.0.6 in /opt/conda/lib/python3.9/site-packages (from aws-shell->sciml-bench==1.0.0) (5.0.6)\n",
      "Requirement already satisfied: awscli<2.0.0,>=1.16.10 in /opt/conda/lib/python3.9/site-packages (from aws-shell->sciml-bench==1.0.0) (1.22.79)\n",
      "Requirement already satisfied: boto3<2.0.0,>=1.9.0 in /opt/conda/lib/python3.9/site-packages (from aws-shell->sciml-bench==1.0.0) (1.21.24)\n",
      "Requirement already satisfied: prompt-toolkit<1.1.0,>=1.0.0 in /opt/conda/lib/python3.9/site-packages (from aws-shell->sciml-bench==1.0.0) (1.0.18)\n",
      "Requirement already satisfied: Pygments<3.0.0,>=2.1.3 in /opt/conda/lib/python3.9/site-packages (from aws-shell->sciml-bench==1.0.0) (2.11.2)\n",
      "Requirement already satisfied: colorama<0.4.4,>=0.2.5 in /opt/conda/lib/python3.9/site-packages (from awscli<2.0.0,>=1.16.10->aws-shell->sciml-bench==1.0.0) (0.4.3)\n",
      "Requirement already satisfied: docutils<0.16,>=0.10 in /opt/conda/lib/python3.9/site-packages (from awscli<2.0.0,>=1.16.10->aws-shell->sciml-bench==1.0.0) (0.15.2)\n",
      "Requirement already satisfied: s3transfer<0.6.0,>=0.5.0 in /opt/conda/lib/python3.9/site-packages (from awscli<2.0.0,>=1.16.10->aws-shell->sciml-bench==1.0.0) (0.5.2)\n",
      "Requirement already satisfied: rsa<4.8,>=3.1.2 in /opt/conda/lib/python3.9/site-packages (from awscli<2.0.0,>=1.16.10->aws-shell->sciml-bench==1.0.0) (4.7.2)\n",
      "Requirement already satisfied: botocore==1.24.24 in /opt/conda/lib/python3.9/site-packages (from awscli<2.0.0,>=1.16.10->aws-shell->sciml-bench==1.0.0) (1.24.24)\n",
      "Requirement already satisfied: jmespath<2.0.0,>=0.7.1 in /opt/conda/lib/python3.9/site-packages (from botocore==1.24.24->awscli<2.0.0,>=1.16.10->aws-shell->sciml-bench==1.0.0) (1.0.0)\n",
      "Requirement already satisfied: urllib3<1.27,>=1.25.4 in /opt/conda/lib/python3.9/site-packages (from botocore==1.24.24->awscli<2.0.0,>=1.16.10->aws-shell->sciml-bench==1.0.0) (1.26.8)\n",
      "Requirement already satisfied: python-dateutil<3.0.0,>=2.1 in /opt/conda/lib/python3.9/site-packages (from botocore==1.24.24->awscli<2.0.0,>=1.16.10->aws-shell->sciml-bench==1.0.0) (2.8.2)\n",
      "Requirement already satisfied: six in /opt/conda/lib/python3.9/site-packages (from configobj<6.0.0,>=5.0.6->aws-shell->sciml-bench==1.0.0) (1.15.0)\n",
      "Requirement already satisfied: wcwidth in /opt/conda/lib/python3.9/site-packages (from prompt-toolkit<1.1.0,>=1.0.0->aws-shell->sciml-bench==1.0.0) (0.2.5)\n",
      "Requirement already satisfied: pyasn1>=0.1.3 in /opt/conda/lib/python3.9/site-packages (from rsa<4.8,>=3.1.2->awscli<2.0.0,>=1.16.10->aws-shell->sciml-bench==1.0.0) (0.4.8)\n"
     ]
    }
   ],
   "source": [
    "# Install sciml-bench\n",
    "!pip install git+https://github.com/stfc-sciml/sciml-bench"
   ]
  },
  {
   "cell_type": "code",
   "execution_count": 19,
   "id": "954be590-15af-4aed-8af5-2f4d8a479333",
   "metadata": {
    "collapsed": true,
    "jupyter": {
     "outputs_hidden": true
    },
    "tags": []
   },
   "outputs": [
    {
     "name": "stdout",
     "output_type": "stream",
     "text": [
      "\n",
      "LIST OF DATASETS:\n",
      "* MNIST\n",
      "  - Approximate size: 12 MB\n",
      "  - The MNIST database of handwritten digits.\n",
      "  - Demonstrates how to add a dataset to SciML-Bench.\n",
      "  - Remote data server: by contributors\n",
      "* em_graphene_sim\n",
      "  - Approximate size: 28 GB\n",
      "  - Simulated electron microscopy (EM) images of graphene.\n",
      "  - Each image has a clean and a noisy version.\n",
      "  - Remote data server: STFC\n",
      "* dms_sim\n",
      "  - Approximate size: 7 GB\n",
      "  - Simulated diffuse multiple scattering (DMS) patterns.\n",
      "  - The patterns are labelled by the azimuthal angles.\n",
      "  - Remote data server: STFC\n",
      "* slstr_cloud_ds1\n",
      "  - Approximate size: 180 GB\n",
      "  - Sentinel-3 SLSTR satellite image data.\n",
      "  - The ground truth of a pixel as either cloudy or clear is provided.\n",
      "  - Remote data server: STFC\n",
      "\n",
      "LIST OF BENCHMARKS:\n",
      "* MNIST_tf_keras\n",
      "  - Dataset: MNIST\n",
      "  - Classifying MNIST with CNN using Tensorflow Keras.\n",
      "  - Demonstrates how to build a benchmark into SciML-Bench.\n",
      "  - Dependencies: tensorflow\n",
      "* MNIST_torch\n",
      "  - Dataset: MNIST\n",
      "  - Classifying MNIST with CNN using Pytorch and Horovod for distributed learning.\n",
      "  - Demonstrates how to build a benchmark into SciML-Bench.\n",
      "  - Dependencies: torch, horovod (with HOROVOD_WITH_PYTORCH=1)\n",
      "* em_denoise\n",
      "  - Dataset: em_graphene_sim\n",
      "  - Denoising electron microscopy (EM) images of graphene using an autoencoder.\n",
      "  - Here the datasets are simulated datasets.\n",
      "  - Dependencies: mxnet\n",
      "* dms_structure\n",
      "  - Dataset: dms_sim\n",
      "  - Classifying crystal structures based on the DMS pattern.\n",
      "  - Diffuse multiple scattering patterns simulated for Tetragonal and Rhombohedral crystal strcutures mimics data collecet at Diamond Light Source.\n",
      "  - Dependencies: torch\n",
      "* slstr_cloud\n",
      "  - Dataset: slstr_cloud_ds1\n",
      "  - Cloud segmentation in Sentinel-3 SLSTR images\n",
      "  - Classifying pixels as either cloudy or clear using images from the SLSTR instrument onboard Sentinel-3 using a U-Net style architecture.\n",
      "  - Dependencies: tensorflow, horovod (with HOROVOD_WITH_TENSORFLOW=1), scikit-learn\n"
     ]
    }
   ],
   "source": [
    "!sciml-bench list"
   ]
  },
  {
   "cell_type": "code",
   "execution_count": 22,
   "id": "9904d3f9-db76-4dc2-9b7e-e87da678a3de",
   "metadata": {
    "collapsed": true,
    "jupyter": {
     "outputs_hidden": true
    }
   },
   "outputs": [
    {
     "name": "stdout",
     "output_type": "stream",
     "text": [
      "--2022-03-22 22:32:36--  https://www.dropbox.com/s/6xhviply27tw3yu/mnist.tar.bz2\n",
      "Resolving www.dropbox.com (www.dropbox.com)... 162.125.64.18, 2620:100:6020:18::a27d:4012\n",
      "Connecting to www.dropbox.com (www.dropbox.com)|162.125.64.18|:443... connected.\n",
      "HTTP request sent, awaiting response... 301 Moved Permanently\n",
      "Location: /s/raw/6xhviply27tw3yu/mnist.tar.bz2 [following]\n",
      "--2022-03-22 22:32:36--  https://www.dropbox.com/s/raw/6xhviply27tw3yu/mnist.tar.bz2\n",
      "Reusing existing connection to www.dropbox.com:443.\n",
      "HTTP request sent, awaiting response... 302 Found\n",
      "Location: https://uc5729b32d4bca59d08317e650ce.dl.dropboxusercontent.com/cd/0/inline/Bh_f-uBntLr_n7LD7MEXoRSBkgyXpPIV2ikdHkp35vBKv8WlVCkDcYXova-vMhUyJ3B798CoF8SIuyhyygsntyPR1GUaLKt-fTvZMC8UQ9m072-o3er8w3WLYewI8-QYaMn38sHKzXNnbOR2wUbFZS3k9C2DCv5eqCDAdxu4U0HL2g/file# [following]\n",
      "--2022-03-22 22:32:37--  https://uc5729b32d4bca59d08317e650ce.dl.dropboxusercontent.com/cd/0/inline/Bh_f-uBntLr_n7LD7MEXoRSBkgyXpPIV2ikdHkp35vBKv8WlVCkDcYXova-vMhUyJ3B798CoF8SIuyhyygsntyPR1GUaLKt-fTvZMC8UQ9m072-o3er8w3WLYewI8-QYaMn38sHKzXNnbOR2wUbFZS3k9C2DCv5eqCDAdxu4U0HL2g/file\n",
      "Resolving uc5729b32d4bca59d08317e650ce.dl.dropboxusercontent.com (uc5729b32d4bca59d08317e650ce.dl.dropboxusercontent.com)... 162.125.64.15, 2620:100:6020:15::a27d:400f\n",
      "Connecting to uc5729b32d4bca59d08317e650ce.dl.dropboxusercontent.com (uc5729b32d4bca59d08317e650ce.dl.dropboxusercontent.com)|162.125.64.15|:443... connected.\n",
      "HTTP request sent, awaiting response... 302 Found\n",
      "Location: /cd/0/inline2/Bh9b9VTLvHcw73jyYfyFgBCc5TpJXdkEXT7LtU9VboEM73fT1toMwaNwCsHRPoRdTysn2MpmesR-uyOv5M_buKYqhpvWjwflIoUsfVGvHA4p9OM3o7qbipsCEnz4CRRfY6ujOig1xn3qHR-OF8vxYKCuuEDKcDU4JB8L-8r9d9-SI_qoWQThJeZniZ-HxAk55fB_xXAecms6XOF62sNRhQr1VIfm_bEpO09X9a5inW1UKp1SPsh4S2fIMqWmvQsPRO-EJUvh9B3X0qrmuL9EXCksj9uTOQa6Z1AGUPx4RSvTOwnnkljduT7LNL-8uGB60Ln6YlnOpzCX8oWqui0zYeyPk_bqNyFf46GtqsVZiIeTyuNcUR-ROpkAIIJj8Ssdzy8laqdiqkkpA66qJAQTjFruS0zkj4l7v1cVcLdkLgCExA/file [following]\n",
      "--2022-03-22 22:32:37--  https://uc5729b32d4bca59d08317e650ce.dl.dropboxusercontent.com/cd/0/inline2/Bh9b9VTLvHcw73jyYfyFgBCc5TpJXdkEXT7LtU9VboEM73fT1toMwaNwCsHRPoRdTysn2MpmesR-uyOv5M_buKYqhpvWjwflIoUsfVGvHA4p9OM3o7qbipsCEnz4CRRfY6ujOig1xn3qHR-OF8vxYKCuuEDKcDU4JB8L-8r9d9-SI_qoWQThJeZniZ-HxAk55fB_xXAecms6XOF62sNRhQr1VIfm_bEpO09X9a5inW1UKp1SPsh4S2fIMqWmvQsPRO-EJUvh9B3X0qrmuL9EXCksj9uTOQa6Z1AGUPx4RSvTOwnnkljduT7LNL-8uGB60Ln6YlnOpzCX8oWqui0zYeyPk_bqNyFf46GtqsVZiIeTyuNcUR-ROpkAIIJj8Ssdzy8laqdiqkkpA66qJAQTjFruS0zkj4l7v1cVcLdkLgCExA/file\n",
      "Reusing existing connection to uc5729b32d4bca59d08317e650ce.dl.dropboxusercontent.com:443.\n",
      "HTTP request sent, awaiting response... 200 OK\n",
      "Length: 12328219 (12M) [application/octet-stream]\n",
      "Saving to: ‘STDOUT’\n",
      "\n",
      "-                   100%[===================>]  11.76M  14.8MB/s    in 0.8s    \n",
      "\n",
      "2022-03-22 22:32:39 (14.8 MB/s) - written to stdout [12328219/12328219]\n",
      "\n",
      "Dataset MNIST downloaded to /lustre/sciml-bench-data/MNIST.\n",
      "^C\n",
      "\n",
      "Dataset em_graphene_sim downloaded to /lustre/sciml-bench-data/em_graphene_sim.\n"
     ]
    }
   ],
   "source": [
    "# Get datasets for each of the benchmarks\n",
    "!for i in MNIST em_graphene_sim dms_sim; do sciml-bench download --dataset_root_dir /lustre/sciml-bench-data $i ;done"
   ]
  },
  {
   "cell_type": "code",
   "execution_count": 21,
   "id": "e8a0b36e-e525-475e-8cd5-61943702f541",
   "metadata": {
    "collapsed": true,
    "jupyter": {
     "outputs_hidden": true
    },
    "tags": []
   },
   "outputs": [
    {
     "name": "stdout",
     "output_type": "stream",
     "text": [
      "Requirement already satisfied: tensorflow in /opt/conda/lib/python3.9/site-packages (2.6.2)\n",
      "Requirement already satisfied: astunparse~=1.6.3 in /opt/conda/lib/python3.9/site-packages (from tensorflow) (1.6.3)\n",
      "Requirement already satisfied: google-pasta~=0.2 in /opt/conda/lib/python3.9/site-packages (from tensorflow) (0.2.0)\n",
      "Requirement already satisfied: six~=1.15.0 in /opt/conda/lib/python3.9/site-packages (from tensorflow) (1.15.0)\n",
      "Requirement already satisfied: gast==0.4.0 in /opt/conda/lib/python3.9/site-packages (from tensorflow) (0.4.0)\n",
      "Requirement already satisfied: tensorflow-estimator<2.7,>=2.6.0 in /opt/conda/lib/python3.9/site-packages (from tensorflow) (2.6.0)\n",
      "Requirement already satisfied: flatbuffers~=1.12.0 in /opt/conda/lib/python3.9/site-packages (from tensorflow) (1.12)\n",
      "Requirement already satisfied: h5py~=3.1.0 in /opt/conda/lib/python3.9/site-packages (from tensorflow) (3.1.0)\n",
      "Requirement already satisfied: wrapt~=1.12.1 in /opt/conda/lib/python3.9/site-packages (from tensorflow) (1.12.1)\n",
      "Requirement already satisfied: numpy~=1.19.2 in /opt/conda/lib/python3.9/site-packages (from tensorflow) (1.19.5)\n",
      "Requirement already satisfied: keras<2.7,>=2.6.0 in /opt/conda/lib/python3.9/site-packages (from tensorflow) (2.6.0)\n",
      "Requirement already satisfied: grpcio<2.0,>=1.37.0 in /opt/conda/lib/python3.9/site-packages (from tensorflow) (1.43.0)\n",
      "Requirement already satisfied: clang~=5.0 in /opt/conda/lib/python3.9/site-packages (from tensorflow) (5.0)\n",
      "Requirement already satisfied: opt-einsum~=3.3.0 in /opt/conda/lib/python3.9/site-packages (from tensorflow) (3.3.0)\n",
      "Requirement already satisfied: keras-preprocessing~=1.1.2 in /opt/conda/lib/python3.9/site-packages (from tensorflow) (1.1.2)\n",
      "Requirement already satisfied: tensorboard<2.7,>=2.6.0 in /opt/conda/lib/python3.9/site-packages (from tensorflow) (2.6.0)\n",
      "Collecting typing-extensions~=3.7.4\n",
      "  Using cached typing_extensions-3.7.4.3-py3-none-any.whl (22 kB)\n",
      "Requirement already satisfied: protobuf>=3.9.2 in /opt/conda/lib/python3.9/site-packages (from tensorflow) (3.19.3)\n",
      "Requirement already satisfied: termcolor~=1.1.0 in /opt/conda/lib/python3.9/site-packages (from tensorflow) (1.1.0)\n",
      "Requirement already satisfied: absl-py~=0.10 in /opt/conda/lib/python3.9/site-packages (from tensorflow) (0.15.0)\n",
      "Requirement already satisfied: wheel~=0.35 in /opt/conda/lib/python3.9/site-packages (from tensorflow) (0.37.1)\n",
      "Requirement already satisfied: setuptools>=41.0.0 in /opt/conda/lib/python3.9/site-packages (from tensorboard<2.7,>=2.6.0->tensorflow) (59.8.0)\n",
      "Requirement already satisfied: google-auth-oauthlib<0.5,>=0.4.1 in /opt/conda/lib/python3.9/site-packages (from tensorboard<2.7,>=2.6.0->tensorflow) (0.4.6)\n",
      "Requirement already satisfied: requests<3,>=2.21.0 in /opt/conda/lib/python3.9/site-packages (from tensorboard<2.7,>=2.6.0->tensorflow) (2.27.1)\n",
      "Requirement already satisfied: google-auth<2,>=1.6.3 in /opt/conda/lib/python3.9/site-packages (from tensorboard<2.7,>=2.6.0->tensorflow) (1.35.0)\n",
      "Requirement already satisfied: tensorboard-plugin-wit>=1.6.0 in /opt/conda/lib/python3.9/site-packages (from tensorboard<2.7,>=2.6.0->tensorflow) (1.8.1)\n",
      "Requirement already satisfied: markdown>=2.6.8 in /opt/conda/lib/python3.9/site-packages (from tensorboard<2.7,>=2.6.0->tensorflow) (3.3.6)\n",
      "Requirement already satisfied: tensorboard-data-server<0.7.0,>=0.6.0 in /opt/conda/lib/python3.9/site-packages (from tensorboard<2.7,>=2.6.0->tensorflow) (0.6.1)\n",
      "Requirement already satisfied: werkzeug>=0.11.15 in /opt/conda/lib/python3.9/site-packages (from tensorboard<2.7,>=2.6.0->tensorflow) (2.0.2)\n",
      "Requirement already satisfied: cachetools<5.0,>=2.0.0 in /opt/conda/lib/python3.9/site-packages (from google-auth<2,>=1.6.3->tensorboard<2.7,>=2.6.0->tensorflow) (4.2.4)\n",
      "Requirement already satisfied: rsa<5,>=3.1.4 in /opt/conda/lib/python3.9/site-packages (from google-auth<2,>=1.6.3->tensorboard<2.7,>=2.6.0->tensorflow) (4.7.2)\n",
      "Requirement already satisfied: pyasn1-modules>=0.2.1 in /opt/conda/lib/python3.9/site-packages (from google-auth<2,>=1.6.3->tensorboard<2.7,>=2.6.0->tensorflow) (0.2.8)\n",
      "Requirement already satisfied: requests-oauthlib>=0.7.0 in /opt/conda/lib/python3.9/site-packages (from google-auth-oauthlib<0.5,>=0.4.1->tensorboard<2.7,>=2.6.0->tensorflow) (1.3.1)\n",
      "Requirement already satisfied: importlib-metadata>=4.4 in /opt/conda/lib/python3.9/site-packages (from markdown>=2.6.8->tensorboard<2.7,>=2.6.0->tensorflow) (4.10.1)\n",
      "Requirement already satisfied: charset-normalizer~=2.0.0 in /opt/conda/lib/python3.9/site-packages (from requests<3,>=2.21.0->tensorboard<2.7,>=2.6.0->tensorflow) (2.0.10)\n",
      "Requirement already satisfied: certifi>=2017.4.17 in /opt/conda/lib/python3.9/site-packages (from requests<3,>=2.21.0->tensorboard<2.7,>=2.6.0->tensorflow) (2021.10.8)\n",
      "Requirement already satisfied: urllib3<1.27,>=1.21.1 in /opt/conda/lib/python3.9/site-packages (from requests<3,>=2.21.0->tensorboard<2.7,>=2.6.0->tensorflow) (1.26.8)\n",
      "Requirement already satisfied: idna<4,>=2.5 in /opt/conda/lib/python3.9/site-packages (from requests<3,>=2.21.0->tensorboard<2.7,>=2.6.0->tensorflow) (3.3)\n",
      "Requirement already satisfied: zipp>=0.5 in /opt/conda/lib/python3.9/site-packages (from importlib-metadata>=4.4->markdown>=2.6.8->tensorboard<2.7,>=2.6.0->tensorflow) (3.7.0)\n",
      "Requirement already satisfied: pyasn1<0.5.0,>=0.4.6 in /opt/conda/lib/python3.9/site-packages (from pyasn1-modules>=0.2.1->google-auth<2,>=1.6.3->tensorboard<2.7,>=2.6.0->tensorflow) (0.4.8)\n",
      "Requirement already satisfied: oauthlib>=3.0.0 in /opt/conda/lib/python3.9/site-packages (from requests-oauthlib>=0.7.0->google-auth-oauthlib<0.5,>=0.4.1->tensorboard<2.7,>=2.6.0->tensorflow) (3.2.0)\n",
      "Installing collected packages: typing-extensions\n",
      "  Attempting uninstall: typing-extensions\n",
      "    Found existing installation: typing_extensions 4.1.1\n",
      "    Uninstalling typing_extensions-4.1.1:\n",
      "      Successfully uninstalled typing_extensions-4.1.1\n",
      "\u001b[31mERROR: pip's dependency resolver does not currently take into account all the packages that are installed. This behaviour is the source of the following dependency conflicts.\n",
      "bokeh 2.4.2 requires typing-extensions>=3.10.0, but you have typing-extensions 3.7.4.3 which is incompatible.\n",
      "black 21.12b0 requires typing-extensions>=3.10.0.0, but you have typing-extensions 3.7.4.3 which is incompatible.\u001b[0m\u001b[31m\n",
      "\u001b[0mSuccessfully installed typing-extensions-3.7.4.3\n",
      "\n",
      "==================== Installation Finished ====================\n",
      "Benchmarks selected:\n",
      "  - MNIST_tf_keras\n",
      "Dependencies installed:\n",
      "  - tensorflow\n",
      "\n",
      "Horovod is not required by selected benchmarks.\n",
      "===============================================================\n",
      "\n",
      "Collecting mxnet-cu102\n",
      "  Using cached mxnet_cu102-1.9.0-py3-none-manylinux2014_x86_64.whl (379.0 MB)\n",
      "Requirement already satisfied: requests<3,>=2.20.0 in /opt/conda/lib/python3.9/site-packages (from mxnet-cu102) (2.27.1)\n",
      "Requirement already satisfied: numpy<2.0.0,>1.16.0 in /opt/conda/lib/python3.9/site-packages (from mxnet-cu102) (1.19.5)\n",
      "Requirement already satisfied: graphviz<0.9.0,>=0.8.1 in /opt/conda/lib/python3.9/site-packages (from mxnet-cu102) (0.8.4)\n",
      "Requirement already satisfied: certifi>=2017.4.17 in /opt/conda/lib/python3.9/site-packages (from requests<3,>=2.20.0->mxnet-cu102) (2021.10.8)\n",
      "Requirement already satisfied: idna<4,>=2.5 in /opt/conda/lib/python3.9/site-packages (from requests<3,>=2.20.0->mxnet-cu102) (3.3)\n",
      "Requirement already satisfied: charset-normalizer~=2.0.0 in /opt/conda/lib/python3.9/site-packages (from requests<3,>=2.20.0->mxnet-cu102) (2.0.10)\n",
      "Requirement already satisfied: urllib3<1.27,>=1.21.1 in /opt/conda/lib/python3.9/site-packages (from requests<3,>=2.20.0->mxnet-cu102) (1.26.8)\n",
      "Installing collected packages: mxnet-cu102\n",
      "Successfully installed mxnet-cu102-1.9.0\n",
      "\n",
      "==================== Installation Finished ====================\n",
      "Benchmarks selected:\n",
      "  - em_denoise\n",
      "Dependencies installed:\n",
      "  - mxnet-cu102\n",
      "\n",
      "Horovod is not required by selected benchmarks.\n",
      "===============================================================\n",
      "\n",
      "Requirement already satisfied: torch in /opt/conda/lib/python3.9/site-packages (1.11.0+cu113)\n",
      "Requirement already satisfied: typing-extensions in /opt/conda/lib/python3.9/site-packages (from torch) (3.7.4.3)\n",
      "\n",
      "==================== Installation Finished ====================\n",
      "Benchmarks selected:\n",
      "  - dms_structure\n",
      "Dependencies installed:\n",
      "  - torch\n",
      "\n",
      "Horovod is not required by selected benchmarks.\n",
      "===============================================================\n",
      "\n"
     ]
    }
   ],
   "source": [
    "# Install deps for each of the benchmarks\n",
    "!for i in MNIST_tf_keras em_denoise dms_structure; do sciml-bench install $i ; done"
   ]
  },
  {
   "cell_type": "code",
   "execution_count": 15,
   "id": "a4d16cc0-9b7c-430e-802a-aba7b62d02a7",
   "metadata": {
    "collapsed": true,
    "jupyter": {
     "outputs_hidden": true
    },
    "tags": []
   },
   "outputs": [
    {
     "name": "stdout",
     "output_type": "stream",
     "text": [
      "\u001b[33mWARNING: Skipping mxnet-cu102 as it is not installed.\u001b[0m\u001b[33m\n",
      "\u001b[0mRequirement already satisfied: mxnet-cu112 in /opt/conda/lib/python3.9/site-packages (1.9.0)\n",
      "Requirement already satisfied: requests<3,>=2.20.0 in /opt/conda/lib/python3.9/site-packages (from mxnet-cu112) (2.27.1)\n",
      "Requirement already satisfied: graphviz<0.9.0,>=0.8.1 in /opt/conda/lib/python3.9/site-packages (from mxnet-cu112) (0.8.4)\n",
      "Requirement already satisfied: numpy<2.0.0,>1.16.0 in /opt/conda/lib/python3.9/site-packages (from mxnet-cu112) (1.19.5)\n",
      "Requirement already satisfied: urllib3<1.27,>=1.21.1 in /opt/conda/lib/python3.9/site-packages (from requests<3,>=2.20.0->mxnet-cu112) (1.26.8)\n",
      "Requirement already satisfied: idna<4,>=2.5 in /opt/conda/lib/python3.9/site-packages (from requests<3,>=2.20.0->mxnet-cu112) (3.3)\n",
      "Requirement already satisfied: certifi>=2017.4.17 in /opt/conda/lib/python3.9/site-packages (from requests<3,>=2.20.0->mxnet-cu112) (2021.10.8)\n",
      "Requirement already satisfied: charset-normalizer~=2.0.0 in /opt/conda/lib/python3.9/site-packages (from requests<3,>=2.20.0->mxnet-cu112) (2.0.10)\n",
      "Looking in links: https://download.pytorch.org/whl/cu113/torch_stable.html\n",
      "Requirement already satisfied: torch==1.11.0+cu113 in /opt/conda/lib/python3.9/site-packages (1.11.0+cu113)\n",
      "Requirement already satisfied: torchvision==0.12.0+cu113 in /opt/conda/lib/python3.9/site-packages (0.12.0+cu113)\n",
      "Requirement already satisfied: torchaudio==0.11.0+cu113 in /opt/conda/lib/python3.9/site-packages (0.11.0+cu113)\n",
      "Requirement already satisfied: typing-extensions in /opt/conda/lib/python3.9/site-packages (from torch==1.11.0+cu113) (4.1.1)\n",
      "Requirement already satisfied: pillow!=8.3.*,>=5.3.0 in /opt/conda/lib/python3.9/site-packages (from torchvision==0.12.0+cu113) (8.4.0)\n",
      "Requirement already satisfied: numpy in /opt/conda/lib/python3.9/site-packages (from torchvision==0.12.0+cu113) (1.19.5)\n",
      "Requirement already satisfied: requests in /opt/conda/lib/python3.9/site-packages (from torchvision==0.12.0+cu113) (2.27.1)\n",
      "Requirement already satisfied: urllib3<1.27,>=1.21.1 in /opt/conda/lib/python3.9/site-packages (from requests->torchvision==0.12.0+cu113) (1.26.8)\n",
      "Requirement already satisfied: idna<4,>=2.5 in /opt/conda/lib/python3.9/site-packages (from requests->torchvision==0.12.0+cu113) (3.3)\n",
      "Requirement already satisfied: charset-normalizer~=2.0.0 in /opt/conda/lib/python3.9/site-packages (from requests->torchvision==0.12.0+cu113) (2.0.10)\n",
      "Requirement already satisfied: certifi>=2017.4.17 in /opt/conda/lib/python3.9/site-packages (from requests->torchvision==0.12.0+cu113) (2021.10.8)\n"
     ]
    }
   ],
   "source": [
    "# Install modern versions of dependencies over sciml-bench requirements\n",
    "# Remove mxnet for CUDA 10.2\n",
    "!pip uninstall -y mxnet-cu102\n",
    "\n",
    "# Install mxnet for CUDA 11.2 (latest available)\n",
    "!pip install mxnet-cu112\n",
    "\n",
    "# Install pytorch and deps for CUDA 11.3 (latest available)\n",
    "!pip install torch==1.11.0+cu113 torchvision==0.12.0+cu113 torchaudio==0.11.0+cu113 -f https://download.pytorch.org/whl/cu113/torch_stable.html"
   ]
  },
  {
   "cell_type": "code",
   "execution_count": 9,
   "id": "7e9b4436-5478-4847-9971-6061d1e196b5",
   "metadata": {
    "collapsed": true,
    "jupyter": {
     "outputs_hidden": true
    }
   },
   "outputs": [
    {
     "name": "stdout",
     "output_type": "stream",
     "text": [
      "<BEGIN> Training model\n",
      "....<MESSG> **saving valid current 0.527 best   inf**\n",
      "....<MESSG> **saving**\n",
      "....<MESSG> 0 epoch, train_err: 0.7110, train_acc: 0.5851, valid_err: 0.5266, valid_acc: 0.7470\n",
      "....<MESSG> **saving valid current 0.420 best 0.527**\n",
      "....<MESSG> **saving**\n",
      "....<MESSG> 1 epoch, train_err: 0.2602, train_acc: 0.9153, valid_err: 0.4199, valid_acc: 0.7889\n",
      "....<MESSG> **saving**\n",
      "....<MESSG> 2 epoch, train_err: 0.0479, train_acc: 0.9919, valid_err: 0.4312, valid_acc: 0.7942\n",
      "....<MESSG> **saving**\n",
      "....<MESSG> 3 epoch, train_err: 0.0144, train_acc: 0.9979, valid_err: 0.4645, valid_acc: 0.7904\n",
      "....<MESSG> **saving**\n",
      "....<MESSG> 4 epoch, train_err: 0.0061, train_acc: 0.9996, valid_err: 0.4891, valid_acc: 0.7965\n",
      "....<MESSG> **saving**\n",
      "....<MESSG> 5 epoch, train_err: 0.0041, train_acc: 0.9996, valid_err: 0.5106, valid_acc: 0.8072\n",
      "....<MESSG> **saving**\n",
      "....<MESSG> 6 epoch, train_err: 0.0025, train_acc: 0.9996, valid_err: 0.5328, valid_acc: 0.8011\n",
      "....<MESSG> **saving**\n",
      "....<MESSG> 7 epoch, train_err: 0.0013, train_acc: 1.0000, valid_err: 0.5542, valid_acc: 0.7980\n",
      "....<MESSG> 8 epoch, train_err: 0.0018, train_acc: 0.9998, valid_err: 0.5819, valid_acc: 0.7957\n",
      "....<MESSG> **saving**\n",
      "....<MESSG> 9 epoch, train_err: 0.0009, train_acc: 1.0000, valid_err: 0.6047, valid_acc: 0.7973\n",
      "....<MESSG> 10 epoch, train_err: 0.0010, train_acc: 0.9998, valid_err: 0.6372, valid_acc: 0.7942\n",
      "....<MESSG> **saving**\n",
      "....<MESSG> 11 epoch, train_err: 0.0004, train_acc: 1.0000, valid_err: 0.6475, valid_acc: 0.7973\n",
      "....<MESSG> Validation error did not get better in the last 10 epochs,                        early stopping\n",
      "....<MESSG> BEST, train_err: 0.0004, valid_err: 0.4199\n",
      "<ENDED> Training model [ELAPSED = 59.763230 sec]\n"
     ]
    }
   ],
   "source": [
    "# Run dms_structure benchmark\n",
    "!sciml-bench run --dataset_dir /lustre/readwrite/dms_sim/ --output_dir dms_structure_out dms_structure"
   ]
  },
  {
   "cell_type": "code",
   "execution_count": 17,
   "id": "3f68a8e8-5ab3-429f-9d07-35525eb44063",
   "metadata": {
    "collapsed": true,
    "jupyter": {
     "outputs_hidden": true
    },
    "tags": []
   },
   "outputs": [
    {
     "name": "stdout",
     "output_type": "stream",
     "text": [
      "<BEGIN> Running benchmark em_denoise\n",
      "....<BEGIN> Parsing input arguments\n",
      "........<MESSG> decimation   = 4\n",
      "........<MESSG> batch_size   = 128\n",
      "........<MESSG> epochs       = 2\n",
      "........<MESSG> lr           = 0.01\n",
      "........<MESSG> use_cuda     = True\n",
      "........<MESSG> plot_batches = 1\n",
      "........<MESSG> Arguments used are saved to:\n",
      "............... em_denoise_out/arguments_used.yml\n",
      "........<MESSG> CUDA is available.\n",
      "....<ENDED> Parsing input arguments [ELAPSED = 0.060765 sec]\n",
      "....<BEGIN> Creating datasets\n",
      "........<MESSG> Dataset directory: /lustre/readwrite/em_graphene_sim\n",
      "....<ENDED> Creating datasets [ELAPSED = 0.005876 sec]\n",
      "....<BEGIN> Creating autoencoder\n",
      "[22:25:43] ../src/base.cc:79: cuDNN lib mismatch: linked-against version 8101 != compiled-against version 8100.  Set MXNET_CUDNN_LIB_CHECKING=0 to quiet this warning.\n",
      "....<ENDED> Creating autoencoder [ELAPSED = 2.281982 sec]\n",
      "....<BEGIN> Training autoencoder\n",
      "[22:25:45] ../src/operator/nn/./cudnn/./cudnn_algoreg-inl.h:96: Running performance tests to find the best convolution algorithm, this can take a while... (set the environment variable MXNET_CUDNN_AUTOTUNE_DEFAULT to 0 to disable)\n",
      "[22:25:46] ../src/operator/nn/./cudnn/./cudnn_algoreg-inl.h:96: Running performance tests to find the best convolution algorithm, this can take a while... (set the environment variable MXNET_CUDNN_AUTOTUNE_DEFAULT to 0 to disable)\n",
      "........<MESSG> Epoch   1: train_loss=0.017903, validate_loss=0.020630, elapsed=28.872661 sec\n",
      "........<MESSG> Epoch   2: train_loss=0.017394, validate_loss=0.020264, elapsed=43.066672 sec\n",
      "....<ENDED> Training autoencoder [ELAPSED = 43.067551 sec]\n",
      "....<BEGIN> Saving model weights and training history\n",
      "........<MESSG> Model weights saved to:\n",
      "............... em_denoise_out/model_weights_decimation=4.params\n",
      "........<MESSG> Training history saved to:\n",
      "............... em_denoise_out/training_history.yml\n",
      "....<ENDED> Saving model weights and training history [ELAPSED = 0.008673 sec]\n",
      "....<BEGIN> Plotting some batches from test set\n",
      "....<ENDED> Plotting some batches from test set [ELAPSED = 18.141764 sec]\n",
      "<ENDED> Running benchmark em_denoise [ELAPSED = 63.568111 sec]\n"
     ]
    }
   ],
   "source": [
    "# Run em_denoise benchmark\n",
    "!sciml-bench run --dataset_dir /lustre/readwrite/em_graphene_sim/ --output_dir em_denoise_out em_denoise"
   ]
  },
  {
   "cell_type": "code",
   "execution_count": 11,
   "id": "c38510e1-1dd7-4cae-bcfc-d0aa7926f285",
   "metadata": {
    "collapsed": true,
    "jupyter": {
     "outputs_hidden": true
    },
    "tags": []
   },
   "outputs": [
    {
     "name": "stdout",
     "output_type": "stream",
     "text": [
      "<BEGIN> Running benchmark MNIST_tf_keras\n",
      "....<BEGIN> Parsing input arguments\n",
      "........<MESSG> batch_size = 64\n",
      "........<MESSG> epochs     = 2\n",
      "....<ENDED> Parsing input arguments [ELAPSED = 0.000206 sec]\n",
      "....<BEGIN> Creating datasets\n",
      "2022-03-22 22:13:44.209940: I tensorflow/stream_executor/cuda/cuda_gpu_executor.cc:937] successful NUMA node read from SysFS had negative value (-1), but there must be at least one NUMA node, so returning NUMA node zero\n",
      "2022-03-22 22:13:44.218934: I tensorflow/stream_executor/cuda/cuda_gpu_executor.cc:937] successful NUMA node read from SysFS had negative value (-1), but there must be at least one NUMA node, so returning NUMA node zero\n",
      "2022-03-22 22:13:44.221075: I tensorflow/stream_executor/cuda/cuda_gpu_executor.cc:937] successful NUMA node read from SysFS had negative value (-1), but there must be at least one NUMA node, so returning NUMA node zero\n",
      "2022-03-22 22:13:44.223549: I tensorflow/core/platform/cpu_feature_guard.cc:142] This TensorFlow binary is optimized with oneAPI Deep Neural Network Library (oneDNN) to use the following CPU instructions in performance-critical operations:  AVX2 FMA\n",
      "To enable them in other operations, rebuild TensorFlow with the appropriate compiler flags.\n",
      "2022-03-22 22:13:44.224626: I tensorflow/stream_executor/cuda/cuda_gpu_executor.cc:937] successful NUMA node read from SysFS had negative value (-1), but there must be at least one NUMA node, so returning NUMA node zero\n",
      "2022-03-22 22:13:44.226558: I tensorflow/stream_executor/cuda/cuda_gpu_executor.cc:937] successful NUMA node read from SysFS had negative value (-1), but there must be at least one NUMA node, so returning NUMA node zero\n",
      "2022-03-22 22:13:44.229097: I tensorflow/stream_executor/cuda/cuda_gpu_executor.cc:937] successful NUMA node read from SysFS had negative value (-1), but there must be at least one NUMA node, so returning NUMA node zero\n",
      "2022-03-22 22:13:44.588083: I tensorflow/stream_executor/cuda/cuda_gpu_executor.cc:937] successful NUMA node read from SysFS had negative value (-1), but there must be at least one NUMA node, so returning NUMA node zero\n",
      "2022-03-22 22:13:44.590127: I tensorflow/stream_executor/cuda/cuda_gpu_executor.cc:937] successful NUMA node read from SysFS had negative value (-1), but there must be at least one NUMA node, so returning NUMA node zero\n",
      "2022-03-22 22:13:44.592038: I tensorflow/stream_executor/cuda/cuda_gpu_executor.cc:937] successful NUMA node read from SysFS had negative value (-1), but there must be at least one NUMA node, so returning NUMA node zero\n",
      "2022-03-22 22:13:44.593883: I tensorflow/core/common_runtime/gpu/gpu_device.cc:1510] Created device /job:localhost/replica:0/task:0/device:GPU:0 with 79143 MB memory:  -> device: 0, name: NVIDIA A100-SXM4-80GB, pci bus id: 0000:00:05.0, compute capability: 8.0\n",
      "........<MESSG> Dataset directory: /lustre/readwrite/MNIST\n",
      "....<ENDED> Creating datasets [ELAPSED = 1.129737 sec]\n",
      "....<BEGIN> Creating CNN model\n",
      "....<ENDED> Creating CNN model [ELAPSED = 0.036733 sec]\n",
      "....<BEGIN> Training CNN model\n",
      "........<BEGIN> Running model.fit()\n",
      "2022-03-22 22:13:45.570066: I tensorflow/compiler/mlir/mlir_graph_optimization_pass.cc:185] None of the MLIR Optimization Passes are enabled (registered 2)\n",
      "2022-03-22 22:13:46.386713: I tensorflow/stream_executor/cuda/cuda_dnn.cc:369] Loaded cuDNN version 8101\n",
      "2022-03-22 22:13:46.995296: I tensorflow/core/platform/default/subprocess.cc:304] Start cannot spawn child process: No such file or directory\n",
      "2022-03-22 22:13:46.996014: I tensorflow/core/platform/default/subprocess.cc:304] Start cannot spawn child process: No such file or directory\n",
      "2022-03-22 22:13:46.996048: W tensorflow/stream_executor/gpu/asm_compiler.cc:77] Couldn't get ptxas version string: Internal: Couldn't invoke ptxas --version\n",
      "2022-03-22 22:13:46.996954: I tensorflow/core/platform/default/subprocess.cc:304] Start cannot spawn child process: No such file or directory\n",
      "2022-03-22 22:13:46.997045: W tensorflow/stream_executor/gpu/redzone_allocator.cc:314] Internal: Failed to launch ptxas\n",
      "Relying on driver to perform ptx compilation. \n",
      "Modify $PATH to customize ptxas location.\n",
      "This message will be only logged once.\n",
      "2022-03-22 22:13:47.544805: I tensorflow/stream_executor/cuda/cuda_blas.cc:1760] TensorFloat-32 will be used for the matrix multiplication. This will only be logged once.\n",
      "............<MESSG> Epoch  0: loss=0.185095 accuracy=0.946750 val_loss=0.078713 val_accuracy=0.974800 elapsed=17.605369 sec\n",
      "............<MESSG> Epoch  1: loss=0.059290 accuracy=0.982433 val_loss=0.051037 val_accuracy=0.982100 elapsed=15.654657 sec\n",
      "........<ENDED> Running model.fit() [ELAPSED = 33.522973 sec]\n",
      "........<BEGIN> Saving model weights\n",
      "............<MESSG> Saved to: MNIST_tf_keras_out/model_weights.h5\n",
      "........<ENDED> Saving model weights [ELAPSED = 0.032699 sec]\n",
      "........<BEGIN> Saving training history\n",
      "............<MESSG> Saved to: MNIST_tf_keras_out/training_history.yml\n",
      "........<ENDED> Saving training history [ELAPSED = 0.001016 sec]\n",
      "....<ENDED> Training CNN model [ELAPSED = 33.557245 sec]\n",
      "....<BEGIN> Making predictions on test set\n",
      "........<MESSG> 9821 correct predictions for 10000 images (accuracy: 98.21%)\n",
      "....<ENDED> Making predictions on test set [ELAPSED = 0.394829 sec]\n",
      "<ENDED> Running benchmark MNIST_tf_keras [ELAPSED = 35.119537 sec]\n"
     ]
    }
   ],
   "source": [
    "# Run MNIST benchmark\n",
    "!sciml-bench run --dataset_dir /lustre/readwrite/MNIST/ --output_dir MNIST_tf_keras_out MNIST_tf_keras"
   ]
  }
 ],
 "metadata": {
  "kernelspec": {
   "display_name": "Python 3 (ipykernel)",
   "language": "python",
   "name": "python3"
  },
  "language_info": {
   "codemirror_mode": {
    "name": "ipython",
    "version": 3
   },
   "file_extension": ".py",
   "mimetype": "text/x-python",
   "name": "python",
   "nbconvert_exporter": "python",
   "pygments_lexer": "ipython3",
   "version": "3.9.7"
  }
 },
 "nbformat": 4,
 "nbformat_minor": 5
}
